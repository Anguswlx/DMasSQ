{
 "cells": [
  {
   "cell_type": "markdown",
   "metadata": {},
   "source": [
    "# Diffusion Models as Stochastic Quantization in Lattice Field Theory\n",
    "\n",
    "\n",
    "## Goals\n",
    "It's a note book for demonstrating how the Diffusiom Models can be applied into the scalar phi-4 theory.\n",
    "\n",
    "The contents of this notebook are mainly based on the following paper: \n",
    "\n",
    "Diffusion Models as Stochastic Quantization in Lattice Field Theory, L Wang, G Aarts, K Zhou, [arXiv:2309.17082[hep-lat]](https://arxiv.org/abs/2309.17082)"
   ]
  },
  {
   "cell_type": "code",
   "execution_count": 1,
   "metadata": {},
   "outputs": [],
   "source": [
    "import numpy as np\n",
    "\n",
    "import os\n",
    "folder_path1 = 'data'\n",
    "folder_path2 = 'figures'\n",
    "folder_path3 = 'models'\n",
    "\n",
    "if not os.path.exists(folder_path1):\n",
    "    os.makedirs(folder_path1)\n",
    "if not os.path.exists(folder_path2):\n",
    "    os.makedirs(folder_path2)\n",
    "if not os.path.exists(folder_path3):\n",
    "    os.makedirs(folder_path3)"
   ]
  },
  {
   "cell_type": "markdown",
   "metadata": {},
   "source": [
    "## 1. Generating Field Configurations\n",
    "\n",
    "We consider a real scalar field in $d$-Euclidean dimensions with the action, \n",
    "\n",
    "\\begin{equation}\n",
    "S_E = \\int \\text{d}^{d}x\\left( \\frac{1}{2}\\sum_{\\mu=1}^d\\left(\\partial_\\mu\\phi_0\\right)^2 + \\frac{1}{2} m_0^2\\phi_0^2 + \\frac{\\lambda_0}{4!}\\phi_0^4 \\right),\n",
    "\\end{equation}\n",
    "\n",
    "where the subscript specifies bare quantities, including mass $m_0$, coupling $\\lambda_0$, and field $\\phi_0(x)$. Discretising the derivative on a lattice with lattice spacing $a$ in all directions,$\\partial_\\mu\\phi_0(x)=[\\phi_0(x+a\\hat\\mu)-\\phi(x)]/a$, with $\\hat{\\mu}$ the unit vector along the $\\mu-$ direction, and redefining the field and parameters to yield dimensionless combinations, gives the lattice action\n",
    "\n",
    "\\begin{equation}\n",
    "S_E = \\sum_x \\left[  -2\\kappa \\sum_{\\mu = 1}^d\\phi(x)\\phi(x+\\hat{\\mu}) + (1-2\\lambda)\\phi^2(x) + \\lambda\\phi^4(x) \\right],\n",
    "\\end{equation}\n",
    "\n",
    "where $\\kappa$ is the hopping parameter, related to the bare mass parameter via\n",
    "\n",
    "\\begin{equation}\n",
    "     (am_0)^2 = \\frac{1-2\\lambda}{\\kappa} - 2d,\n",
    "\\end{equation}\n",
    "\n",
    "and $\\lambda=a^{4-d}\\kappa^2\\lambda_0/6$ denotes the dimensionless coupling constant describing field interactions. Both parameters are positive. The field has been rescaled according to $a^{d/2-1}\\phi_0=(2\\kappa)^{1/2}\\phi$."
   ]
  },
  {
   "cell_type": "markdown",
   "metadata": {},
   "source": [
    "### 1.1 MCMC"
   ]
  },
  {
   "cell_type": "code",
   "execution_count": 2,
   "metadata": {},
   "outputs": [],
   "source": [
    "from mc import get_action, get_drift, get_hamiltonian, hmc\n",
    "L = 16\n",
    "k = 0.27\n",
    "# k = 0.21\n",
    "l = 0.022\n",
    "\n",
    "# superparameters for generating configurations\n",
    "chains = 1024\n",
    "nk = 10"
   ]
  },
  {
   "cell_type": "code",
   "execution_count": 3,
   "metadata": {},
   "outputs": [
    {
     "name": "stdout",
     "output_type": "stream",
     "text": [
      "load from file\n"
     ]
    }
   ],
   "source": [
    "import copy\n",
    "from concurrent.futures import ProcessPoolExecutor\n",
    "from tqdm import tqdm \n",
    "\n",
    "filename = 'data/cfgs_L{}_k{}_l{}_{}k.npy'.format(L,k,l,nk)\n",
    "\n",
    "def runhmc(chains):\n",
    "    local_cfgs = []\n",
    "    local_acc = []\n",
    "    for chain_idx in tqdm(range(chains), desc=\"Chain Progress\"):\n",
    "        phi = np.random.randn(L,L)\n",
    "        S = get_action(phi, k, l)\n",
    "        for i in range(all_steps):\n",
    "            phi, S, accepted = hmc(phi, S, k, l)\n",
    "            local_acc.append(accepted)\n",
    "            if i % eq_step == 0 and i > therm_step:\n",
    "                local_cfgs.append(copy.deepcopy(phi))\n",
    "    return local_cfgs\n",
    "\n",
    "if os.path.exists(filename):\n",
    "    print('load from file') \n",
    "    cfgs = np.load(filename,allow_pickle=True)\n",
    "\n",
    "else:\n",
    "    print('generating new cfgs')\n",
    "    therm_step = 100\n",
    "    eq_step = 64\n",
    "    all_steps = (therm_step + eq_step)\n",
    "                \n",
    "    # prepare training data-set\n",
    "    chainlist = list(chains for i in range(nk))\n",
    "    max_workers = 0  # Set this variable to control the number of workers\n",
    "\n",
    "    if max_workers > 1:\n",
    "        # Use multiprocessing when more than 1 worker is specified\n",
    "        with ProcessPoolExecutor(max_workers=max_workers) as executor:\n",
    "            results = list(executor.map(runhmc, chainlist))\n",
    "    else:\n",
    "        # Execute serially without multiprocessing\n",
    "        results = [runhmc(chains) for i in range(nk)]\n",
    "        \n",
    "\n",
    "    # Accumulating and reshaping results\n",
    "    all_cfgs = [cfg for sublist in results for cfg in sublist]\n",
    "    cfgs = np.array(all_cfgs).reshape(-1, L, L)\n",
    "    print(cfgs.shape)\n",
    "\n",
    "    np.save(filename, cfgs)"
   ]
  },
  {
   "cell_type": "markdown",
   "metadata": {},
   "source": [
    "### 1.2 Langevin Dynamics"
   ]
  },
  {
   "cell_type": "code",
   "execution_count": 5,
   "metadata": {},
   "outputs": [],
   "source": [
    "from langevin import Lattice\n",
    "d = 2\n",
    "L = 16\n",
    "# k = 0.5\n",
    "k = 0.27\n",
    "l = 0.022\n",
    "\n",
    "# superparameters for generating configurations\n",
    "chains = 1024\n",
    "nk = 1\n",
    "therm_step =  500 # thermalization time\n",
    "lattice = Lattice(L, d, k, l)"
   ]
  },
  {
   "cell_type": "code",
   "execution_count": 6,
   "metadata": {},
   "outputs": [
    {
     "name": "stdout",
     "output_type": "stream",
     "text": [
      "burn in...\n",
      "\n"
     ]
    },
    {
     "name": "stderr",
     "output_type": "stream",
     "text": [
      "100%|██████████| 500/500 [00:10<00:00, 47.56it/s]\n"
     ]
    },
    {
     "name": "stdout",
     "output_type": "stream",
     "text": [
      "\n",
      "recording...\n",
      "\n"
     ]
    },
    {
     "name": "stderr",
     "output_type": "stream",
     "text": [
      "100%|██████████| 10240/10240 [00:00<00:00, 23247.22it/s]"
     ]
    },
    {
     "name": "stdout",
     "output_type": "stream",
     "text": [
      "\n",
      "done.\n",
      "accept rate: 1.0\n",
      "(1024, 32, 32)\n"
     ]
    },
    {
     "name": "stderr",
     "output_type": "stream",
     "text": [
      "\n"
     ]
    }
   ],
   "source": [
    "from tqdm import tqdm \n",
    "\n",
    "filename = 'data/langevin_cfgs_L{}_k{}_l{}_{}k.npy'.format(L,k,l,nk)\n",
    "\n",
    "\n",
    "if os.path.exists(filename):\n",
    "    print('load langevin configs from file') \n",
    "    cfgs_langevin = np.load(filename)\n",
    "\n",
    "else:\n",
    "    print(\"burn in...\\n\")\n",
    "    for i in tqdm(range(therm_step)):\n",
    "        lattice.phi = np.random.randn(*[L for _ in range(d)]) # starting from a random config\n",
    "        # lattice.phi = ini_phi # starting from a exising random config\n",
    "        \n",
    "        for j in range(therm_step - 1):\n",
    "            lattice.langevin()\n",
    "\n",
    "\n",
    "    print(\"\\nrecording...\\n\")\n",
    "\n",
    "    cfgs_langevin = []\n",
    "    n_accepted = 0\n",
    "    n_skip = 10\n",
    "    ntotal = chains * nk * n_skip\n",
    "\n",
    "    for i in tqdm(range(ntotal)):\n",
    "        n_accepted += lattice.langevin()\n",
    "\n",
    "        if i % n_skip == 0:\n",
    "            cfgs_langevin.append(copy.deepcopy(lattice.phi))\n",
    "\n",
    "    cfgs_langevin = np.array(cfgs_langevin)\n",
    "    print(\"\\ndone.\")\n",
    "\n",
    "    print(\"accept rate:\", n_accepted / ntotal)\n",
    "\n",
    "    print(cfgs_langevin.shape)\n",
    "    np.save(filename, cfgs_langevin)"
   ]
  },
  {
   "cell_type": "markdown",
   "metadata": {},
   "source": [
    "### 1.3 Observables"
   ]
  },
  {
   "cell_type": "code",
   "execution_count": 4,
   "metadata": {},
   "outputs": [
    {
     "name": "stdout",
     "output_type": "stream",
     "text": [
      "M = 0.030000055741617505 +/- 0.007292754145823734\n",
      "|M| = 0.6593394273994033 +/- 0.0032884742802843396\n",
      "chi2 = 139.40573930977394 +/- 1.086337214719185\n"
     ]
    }
   ],
   "source": [
    "# cfgs = cfgs_langevin\n",
    "from observable import get_mag, get_abs_mag, get_chi2\n",
    "\n",
    "mag_mean, mag_err = get_mag(cfgs)\n",
    "print(\"M =\", mag_mean, \"+/-\", mag_err)\n",
    "\n",
    "mag_abs_mean, mag_abs_err = get_abs_mag(cfgs)\n",
    "print(\"|M| =\", mag_abs_mean, \"+/-\", mag_abs_err)\n",
    "\n",
    "chi2_mean, chi2_err = get_chi2(cfgs)\n",
    "print(\"chi2 =\", chi2_mean, \"+/-\", chi2_err)"
   ]
  },
  {
   "cell_type": "markdown",
   "metadata": {},
   "source": [
    "## 2. Diffusion Models"
   ]
  },
  {
   "cell_type": "markdown",
   "metadata": {},
   "source": [
    "### 2.1 preparations"
   ]
  },
  {
   "cell_type": "code",
   "execution_count": 5,
   "metadata": {},
   "outputs": [
    {
     "name": "stdout",
     "output_type": "stream",
     "text": [
      "Using device: cuda\tNVIDIA GeForce RTX 4090\n"
     ]
    },
    {
     "name": "stderr",
     "output_type": "stream",
     "text": [
      "c:\\Users\\angus\\anaconda3\\Lib\\site-packages\\torch\\__init__.py:696: UserWarning: torch.set_default_tensor_type() is deprecated as of PyTorch 2.1, please use torch.set_default_dtype() and torch.set_default_device() as alternatives. (Triggered internally at C:\\cb\\pytorch_1000000000000\\work\\torch\\csrc\\tensor\\python_tensor.cpp:453.)\n",
      "  _C._set_default_tensor_type(t)\n"
     ]
    }
   ],
   "source": [
    "import torch\n",
    "import torch.nn as nn\n",
    "import torch.nn.functional as F\n",
    "import numpy as np\n",
    "\n",
    "if torch.cuda.is_available():\n",
    "  device = 'cuda'\n",
    "  float_dtype = np.float32 # single\n",
    "  torch.set_default_tensor_type(torch.cuda.FloatTensor)\n",
    "else:\n",
    "  device = 'cpu'\n",
    "  float_dtype = np.float64 # double\n",
    "  torch.set_default_tensor_type(torch.DoubleTensor)\n",
    "print(f\"Using device: {device}\\t\" + (f\"{torch.cuda.get_device_name(0)}\" if torch.cuda.is_available() else \"CPU\"))"
   ]
  },
  {
   "cell_type": "markdown",
   "metadata": {},
   "source": [
    "#### 2.1.1 normalization"
   ]
  },
  {
   "cell_type": "code",
   "execution_count": 6,
   "metadata": {},
   "outputs": [
    {
     "data": {
      "text/plain": [
       "torch.Size([10240, 1, 16, 16])"
      ]
     },
     "execution_count": 6,
     "metadata": {},
     "output_type": "execute_result"
    }
   ],
   "source": [
    "from norm import norm, renorm\n",
    "\n",
    "cfgs_nm,cfgs_min,cfgs_max = norm(cfgs)\n",
    "\n",
    "nm = 1\n",
    "\n",
    "# configs = torch.from_numpy(cfgs).unsqueeze(1).to(device) # torch tensor\n",
    "# configs = torch.from_numpy(cfgs).unsqueeze(1).float().to(device) # torch tensor\n",
    "\n",
    "if nm == 1:\n",
    "    configs = torch.from_numpy(cfgs_nm).unsqueeze(1).float().to(device) # torch tensor\n",
    "else:\n",
    "    configs = torch.from_numpy(cfgs).unsqueeze(1).float().to(device) # torch tensor\n",
    "\n",
    "configs.shape"
   ]
  },
  {
   "cell_type": "markdown",
   "metadata": {},
   "source": [
    "#### 2.1.2 data set "
   ]
  },
  {
   "cell_type": "code",
   "execution_count": 7,
   "metadata": {},
   "outputs": [],
   "source": [
    "from torch.utils.data import Dataset, DataLoader,TensorDataset\n",
    "\n",
    "n_epochs =   250#@param {'type':'integer'}\n",
    "## size of a mini-batch\n",
    "batch_size =  64 #@param {'type':'integer'}\n",
    "## learning rate\n",
    "lr=1e-3 #@param {'type':'number'}\n",
    "\n",
    "nk_train = 8\n",
    "num_test = 1024\n",
    "num_train = nk_train*1024\n",
    "\n",
    "dataset = TensorDataset(configs[:num_train], configs[:num_train])\n",
    "data_loader = DataLoader(dataset, batch_size = batch_size, shuffle=True, generator=torch.Generator(device))#\n",
    "\n",
    "testing_dataset = TensorDataset(configs[:num_test], configs[:num_test])\n",
    "testing_loader = DataLoader(testing_dataset, batch_size = batch_size, shuffle=True, generator=torch.Generator(device))#, generator=torch.Generator(device)"
   ]
  },
  {
   "cell_type": "markdown",
   "metadata": {},
   "source": [
    "#### 2.1.3 stochastic differential equations"
   ]
  },
  {
   "cell_type": "code",
   "execution_count": 8,
   "metadata": {},
   "outputs": [],
   "source": [
    "import functools\n",
    "from sde import marginal_prob_std, diffusion_coeff\n",
    "\n",
    "sigma =  25.0#@param {'type':'number'} default = 25\n",
    "marginal_prob_std_fn = functools.partial(marginal_prob_std, sigma=sigma, device=device)\n",
    "diffusion_coeff_fn = functools.partial(diffusion_coeff, sigma=sigma, device=device)"
   ]
  },
  {
   "cell_type": "markdown",
   "metadata": {},
   "source": [
    "### 2.2 Building ScoreNet"
   ]
  },
  {
   "cell_type": "code",
   "execution_count": 9,
   "metadata": {},
   "outputs": [],
   "source": [
    "import torch\n",
    "import tqdm\n",
    "from torch.optim import Adam\n",
    "from loss import loss_fn\n",
    "import torchvision.transforms as transforms\n",
    "from unet import GaussianFourierProjection,Dense,ScoreNet\n",
    "\n",
    "score_model = torch.nn.DataParallel(ScoreNet(marginal_prob_std=marginal_prob_std_fn))\n",
    "score_model = score_model.to(device)"
   ]
  },
  {
   "cell_type": "markdown",
   "metadata": {},
   "source": [
    "### 2.3 Training"
   ]
  },
  {
   "cell_type": "code",
   "execution_count": null,
   "metadata": {},
   "outputs": [],
   "source": [
    "#@title Training (double click to expand or collapse)\n",
    "n_epochs = 250\n",
    "optimizer = Adam(score_model.parameters(), lr=lr)\n",
    "tqdm_epoch = tqdm.trange(n_epochs)\n",
    "for epoch in tqdm_epoch:\n",
    "  avg_loss = 0.\n",
    "  num_items = 0\n",
    "  for x, y in data_loader:\n",
    "    x = x.to(device)    \n",
    "    loss = loss_fn(score_model, x, marginal_prob_std_fn)\n",
    "    optimizer.zero_grad()\n",
    "    loss.backward()    \n",
    "    optimizer.step()\n",
    "    avg_loss += loss.item() * x.shape[0]\n",
    "    num_items += x.shape[0]\n",
    "  # Print the averaged training loss so far.\n",
    "  tqdm_epoch.set_description('Average Loss: {:5f}'.format(avg_loss / num_items))\n",
    "  # Update the checkpoint after each epoch of training.\n",
    "  torch.save(score_model.state_dict(), 'models/ckpt_L{}_k{}_l{}_num{}_nm{}.pth'.format(L,k,l,num_train,nm))"
   ]
  },
  {
   "cell_type": "markdown",
   "metadata": {},
   "source": [
    "### 2.4 Sampling"
   ]
  },
  {
   "cell_type": "code",
   "execution_count": 11,
   "metadata": {},
   "outputs": [],
   "source": [
    "from sampler import Euler_Maruyama_sampler, pc_sampler, ode_sampler\n",
    "## The number of sampling steps.\n",
    "num_steps =  200#@param {'type':'integer'}\n",
    "\n",
    "## The The signal-to-noise ratio of the Langevin MCMC step.\n",
    "signal_to_noise_ratio = 0.16 #@param {'type':'number'}\n",
    "\n",
    "## The error tolerance for the black-box ODE solver\n",
    "error_tolerance = 1e-5 #@param {'type': 'number'}"
   ]
  },
  {
   "cell_type": "code",
   "execution_count": 12,
   "metadata": {},
   "outputs": [
    {
     "name": "stderr",
     "output_type": "stream",
     "text": [
      "c:\\Users\\angus\\WorkSpace\\DM\\DMasSQ_open\\sde.py:15: UserWarning: To copy construct from a tensor, it is recommended to use sourceTensor.clone().detach() or sourceTensor.clone().detach().requires_grad_(True), rather than torch.tensor(sourceTensor).\n",
      "  t = torch.tensor(t, device=device)\n",
      "  0%|          | 0/200 [00:00<?, ?it/s]c:\\Users\\angus\\WorkSpace\\DM\\DMasSQ_open\\sde.py:28: UserWarning: To copy construct from a tensor, it is recommended to use sourceTensor.clone().detach() or sourceTensor.clone().detach().requires_grad_(True), rather than torch.tensor(sourceTensor).\n",
      "  return torch.tensor(sigma**t, device=device)\n",
      "100%|██████████| 200/200 [00:04<00:00, 48.29it/s]\n"
     ]
    }
   ],
   "source": [
    "#@title Sampling\n",
    "\n",
    "## Load the pre-trained checkpoint from disk.\n",
    "# device = 'cuda' #@param ['cuda', 'cpu'] {'type':'string'}\n",
    "ckpt = torch.load('models/ckpt_L{}_k{}_l{}_num{}_nm{}.pth'.format(L,k,l,num_train,nm), map_location=device)\n",
    "score_model.load_state_dict(ckpt)\n",
    "\n",
    "num_sample = 1024 #@param {'type':'integer'}\n",
    "sampler = Euler_Maruyama_sampler #@param ['Euler_Maruyama_sampler', 'pc_sampler', 'ode_sampler'] {'type': 'raw'}\n",
    "\n",
    "# del samples\n",
    "torch.cuda.empty_cache()\n",
    "\n",
    "## Generate samples using the specified sampler.\n",
    "samples,_ = sampler(score_model, \n",
    "                  marginal_prob_std_fn,\n",
    "                  diffusion_coeff_fn, \n",
    "                  batch_size = num_sample, \n",
    "                  num_steps = num_steps,\n",
    "                  device=device, L =L)\n"
   ]
  },
  {
   "cell_type": "markdown",
   "metadata": {},
   "source": [
    "### 2.5 Evaluation"
   ]
  },
  {
   "cell_type": "code",
   "execution_count": 13,
   "metadata": {},
   "outputs": [
    {
     "name": "stdout",
     "output_type": "stream",
     "text": [
      "0.030000055741617505\n",
      "0.32521194\n"
     ]
    }
   ],
   "source": [
    "from observable import grab, mag, abs_mag, get_UL\n",
    "# samples_re = samples\n",
    "samples_re = renorm(samples,cfgs_min,cfgs_max)\n",
    "\n",
    "filename = 'data/generated_cfgs_L{}_k{}_l{}_{}k.npy'.format(L,k,l,nk)\n",
    "if os.path.exists(filename):\n",
    "  cfgs_df = np.load(filename)\n",
    "else:\n",
    "  cfgs_df = grab(samples_re)\n",
    "  cfgs_df = cfgs_df.squeeze(1)\n",
    "  np.save(filename, cfgs_df)\n",
    "\n",
    "Mall_df = mag(cfgs_df) # magnetization of DM generated configurations\n",
    "Mall = mag(cfgs) # magnetization of prepared configurations\n",
    "print(Mall.mean())\n",
    "print(Mall_df.mean())"
   ]
  },
  {
   "cell_type": "code",
   "execution_count": 14,
   "metadata": {},
   "outputs": [
    {
     "data": {
      "image/png": "[encoded data removed]",
      "text/plain": [
       "<Figure size 800x600 with 1 Axes>"
      ]
     },
     "metadata": {},
     "output_type": "display_data"
    }
   ],
   "source": [
    "%matplotlib inline\n",
    "import matplotlib.pyplot as plt\n",
    "plt.figure(figsize=(8,6))\n",
    "plt.rc('font', size=20)\n",
    "plt.hist(Mall[-num_sample:],bins=60,alpha= 1.,label = 'HMC',density=False, color= 'skyblue')\n",
    "plt.hist(Mall_df,bins=60,alpha = 0.8,label = 'DM',density=False,color='coral')\n",
    "plt.xlabel('Magnetization')\n",
    "plt.ylabel('Numbers')\n",
    "\n",
    "plt.legend()\n",
    "plt.minorticks_on()\n",
    "\n",
    "figurename = 'figures/mag_L{}_k{}_l{}_{}k.pdf'.format(L,k,l,nk)\n",
    "\n",
    "if os.path.exists(figurename):\n",
    "  pass\n",
    "else:\n",
    "  plt.savefig(figurename, dpi=300, bbox_inches='tight')\n",
    "\n",
    "plt.show()"
   ]
  },
  {
   "cell_type": "code",
   "execution_count": 15,
   "metadata": {},
   "outputs": [
    {
     "name": "stdout",
     "output_type": "stream",
     "text": [
      "M = 0.3252 +/- 0.0218\n",
      "|M| = 0.6875 +/- 0.0109\n",
      "chi2 = 124.9001 +/- 3.7686\n",
      "UL = 0.4570 +/- 0.0218\n"
     ]
    }
   ],
   "source": [
    "testing_sample = cfgs_df\n",
    "M, M_err = get_mag(testing_sample)\n",
    "M_abs, M_abs_err = get_abs_mag(testing_sample)\n",
    "chi2, chi2_err = get_chi2(testing_sample)\n",
    "UL, UL_err = get_UL(testing_sample)\n",
    "\n",
    "print(\"M = %.4f +/- %.4f\" % (M, M_err))\n",
    "print(\"|M| = %.4f +/- %.4f\" % (M_abs, M_abs_err))\n",
    "print(\"chi2 = %.4f +/- %.4f\" % (chi2, chi2_err))\n",
    "print(\"UL = %.4f +/- %.4f\" % (UL, UL_err))"
   ]
  },
  {
   "cell_type": "markdown",
   "metadata": {},
   "source": [
    "### 2.6 Visualization"
   ]
  },
  {
   "cell_type": "code",
   "execution_count": 17,
   "metadata": {},
   "outputs": [
    {
     "data": {
      "image/png": "[encoded data removed]",
      "text/plain": [
       "<Figure size 800x800 with 17 Axes>"
      ]
     },
     "metadata": {},
     "output_type": "display_data"
    }
   ],
   "source": [
    "from plot_sample import show_images\n",
    "show_images(samples_re)"
   ]
  },
  {
   "cell_type": "markdown",
   "metadata": {},
   "source": [
    "## 3. Compute Likelihood\n",
    "\n",
    "Here we refer to the work, \"Song, Y., Sohl-Dickstein, J., Kingma, D.P., Kumar, A., Ermon, S., Poole, B., 2021. Score-based generative modeling through stochastic differential equations, in: ICLR 2021\".\n",
    "\n",
    "\n",
    "A by-product of the probability flow ODE formulation is likelihood computation. Suppose we have a differentiable one-to-one mapping $\\mathbf{h}$ that transforms a data sample $\\mathbf{x} \\sim p_0$ to a prior distribution $\\mathbf{h}(\\mathbf{x}) \\sim p_T$. We can compute the likelihood of $p_0(\\mathbf{x})$ via the following [change-of-variable formula](https://en.wikipedia.org/wiki/Probability_density_function#Function_of_random_variables_and_change_of_variables_in_the_probability_density_function)\n",
    "\\begin{align*}\n",
    "p_0(\\mathbf{x}) = p_T(\\mathbf{h}(\\mathbf{x})) |\\operatorname{det}(J_\\mathbf{h}(\\mathbf{x}))|,\n",
    "\\end{align*}\n",
    "where $J_\\mathbf{h}(\\mathbf{x})$ represents the Jacobian of the mapping $\\mathbf{h}$, and we assume it is efficient to evaluate the likelihood of the prior distribution $p_T$. \n",
    "\n",
    "The trajectories of an ODE also define a one-to-one mapping from $\\mathbf{x}(0)$ to $\\mathbf{x}(T)$. For ODEs of the form\n",
    "\\begin{align*}\n",
    "d \\mathbf{x} = \\mathbf{f}(\\mathbf{x}, t) dt,\n",
    "\\end{align*}\n",
    "there exists an [instantaneous change-of-variable formula](https://arxiv.org/abs/1806.07366) that connects the probability of $p_0(\\mathbf{x})$ and $p_1(\\mathbf{x})$, given by\n",
    "\\begin{align*}\n",
    "p_0 (\\mathbf{x}(0)) = e^{\\int_0^1 \\operatorname{div} \\mathbf{f}(\\mathbf{x}(t), t) d t} p_1(\\mathbf{x}(1)),\n",
    "\\end{align*}\n",
    "where $\\operatorname{div}$ denotes the divergence function (trace of Jacobian). \n",
    "\n",
    "In practice, this divergence function can be hard to evaluate for general vector-valued function $\\mathbf{f}$, but we can use an unbiased estimator, named [Skilling-Hutchinson estimator](http://blog.shakirm.com/2015/09/machine-learning-trick-of-the-day-3-hutchinsons-trick/), to approximate the trace. Let $\\boldsymbol \\epsilon \\sim \\mathcal{N}(\\mathbf{0}, \\mathbf{I})$. The Skilling-Hutchinson estimator is based on the fact that\n",
    "\\begin{align*}\n",
    "\\operatorname{div} \\mathbf{f}(\\mathbf{x}) = \\mathbb{E}_{\\boldsymbol\\epsilon \\sim \\mathcal{N}(\\mathbf{0}, \\mathbf{I})}[\\boldsymbol\\epsilon^\\intercal  J_\\mathbf{f}(\\mathbf{x}) \\boldsymbol\\epsilon].\n",
    "\\end{align*}\n",
    "Therefore, we can simply sample a random vector $\\boldsymbol \\epsilon \\sim \\mathcal{N}(\\mathbf{0}, \\mathbf{I})$, and then use $\\boldsymbol \\epsilon^\\intercal J_\\mathbf{f}(\\mathbf{x}) \\boldsymbol \\epsilon$ to estimate the divergence of $\\mathbf{f}(\\mathbf{x})$. This estimator only requires computing the Jacobian-vector product $J_\\mathbf{f}(\\mathbf{x})\\boldsymbol \\epsilon$, which is typically efficient.\n",
    "\n",
    "As a result, for our probability flow ODE, we can compute the (log) data likelihood with the following\n",
    "\\begin{align*}\n",
    "\\log p_0(\\mathbf{x}(0)) = \\log p_1(\\mathbf{x}(1)) -\\frac{1}{2}\\int_0^1 \\frac{d[\\sigma^2(t)]}{dt} \\operatorname{div} s_\\theta(\\mathbf{x}(t), t) dt.\n",
    "\\end{align*}\n",
    "With the Skilling-Hutchinson estimator, we can compute the divergence via\n",
    "\\begin{align*}\n",
    "\\operatorname{div} s_\\theta(\\mathbf{x}(t), t) = \\mathbb{E}_{\\boldsymbol\\epsilon \\sim \\mathcal{N}(\\mathbf{0}, \\mathbf{I})}[\\boldsymbol\\epsilon^\\intercal  J_{s_\\theta}(\\mathbf{x}(t), t) \\boldsymbol\\epsilon].\n",
    "\\end{align*}\n",
    "Afterwards, we can compute the integral with numerical integrators. This gives us an unbiased estimate to the true data likelihood, and we can make it more and more accurate when we run it multiple times and take the average. The numerical integrator requires $\\mathbf{x}(t)$ as a function of $t$, which can be obtained by the probability flow ODE sampler."
   ]
  },
  {
   "cell_type": "code",
   "execution_count": 18,
   "metadata": {},
   "outputs": [
    {
     "name": "stderr",
     "output_type": "stream",
     "text": [
      "c:\\Users\\angus\\WorkSpace\\DM\\DMasSQ_open\\sde.py:15: UserWarning: To copy construct from a tensor, it is recommended to use sourceTensor.clone().detach() or sourceTensor.clone().detach().requires_grad_(True), rather than torch.tensor(sourceTensor).\n",
      "  t = torch.tensor(t, device=device)\n"
     ]
    }
   ],
   "source": [
    "from likelihood import ode_likelihood\n",
    "\n",
    "## Load the pre-trained checkpoint from disk.\n",
    "# device = 'cuda' #@param ['cuda', 'cpu'] {'type':'string'}\n",
    "ckpt = torch.load('models/ckpt_L{}_k{}_l{}_num{}_nm{}.pth'.format(L,k,l,num_train,nm), map_location=device)\n",
    "score_model.load_state_dict(ckpt)\n",
    "\n",
    "sample_size = 256\n",
    "generated = samples[:sample_size]\n",
    "\n",
    "_,logp, bpd = ode_likelihood(generated, score_model, marginal_prob_std_fn,\n",
    "                            diffusion_coeff_fn, batch_size = sample_size, device= device) # eps=1e-5"
   ]
  },
  {
   "cell_type": "code",
   "execution_count": null,
   "metadata": {},
   "outputs": [],
   "source": [
    "dmmc_filename_logq = 'data/dmmc_logq_L{}_k{}_l{}_num{}_nm{}.npy'.format(L,k,l,num_train,nm)\n",
    "if os.path.exists(dmmc_filename_logq):\n",
    "    pass\n",
    "else:\n",
    "    np.save('data/dmmc_logq_L{}_k{}_l{}_num{}_nm{}.npy'.format(L,k,l,num_train,nm),grab(logp))\n",
    "    np.save('data/dmmc_cfgs_L{}_k{}_l{}_num{}_nm{}.npy'.format(L,k,l,num_train,nm),grab(generated[:,0,:,:]))"
   ]
  },
  {
   "cell_type": "code",
   "execution_count": null,
   "metadata": {},
   "outputs": [],
   "source": [
    "def action(phi: np.ndarray, k, l):\n",
    "    return np.sum(-2 * k * phi * (np.roll(phi, 1, 1) + np.roll(phi, 1, 2))\n",
    "                  + (1 - 2 * l) * phi**2 + l * phi**4,axis=(1,2))\n",
    "\n",
    "\n",
    "Sall_df = grab(-logp)\n",
    "\n",
    "generated_re = grab(renorm(generated,cfgs_min,cfgs_max))\n",
    "# generated_re = grab(generated)\n",
    "\n",
    "\n",
    "Sall_real = action(generated_re[:,0],k,l)\n",
    "\n",
    "plt.figure(figsize=(6,5))\n",
    "plt.rc('font', size=15)\n",
    "\n",
    "plt.hist2d(Sall_df,Sall_real, bins = 20, cmap='Greens')\n",
    "\n",
    "fit_b = np.mean(Sall_real) - np.mean(Sall_df)\n",
    "xs = np.linspace(np.min(Sall_df),np.max(Sall_df), num=100, endpoint=True)\n",
    "plt.plot(xs, xs + fit_b, ':', color='black',linewidth = 2, label='slope 1 fit') \n",
    "\n",
    "plt.ylabel('$S(\\phi)$')\n",
    "plt.xlabel('$S_{eff}\\equiv -\\log q(\\phi)$')\n",
    "plt.savefig('figures/action_k{}.pdf'.format(k),dpi=300, bbox_inches='tight')\n",
    "\n",
    "plt.show()"
   ]
  },
  {
   "cell_type": "code",
   "execution_count": null,
   "metadata": {},
   "outputs": [],
   "source": [
    "# R^2 coefficient\n",
    "corr_matrix = np.corrcoef(Sall_real, Sall_df)\n",
    "corr = corr_matrix[0,1]\n",
    "R_sq = corr**2\n",
    "print(R_sq)"
   ]
  }
 ],
 "metadata": {
  "kernelspec": {
   "display_name": "base",
   "language": "python",
   "name": "python3"
  },
  "language_info": {
   "codemirror_mode": {
    "name": "ipython",
    "version": 3
   },
   "file_extension": ".py",
   "mimetype": "text/x-python",
   "name": "python",
   "nbconvert_exporter": "python",
   "pygments_lexer": "ipython3",
   "version": "3.11.7"
  }
 },
 "nbformat": 4,
 "nbformat_minor": 2
}
